{
 "cells": [
  {
   "cell_type": "markdown",
   "id": "993ff251",
   "metadata": {},
   "source": [
    "# Model Fitting For Lien2 type"
   ]
  },
  {
   "cell_type": "code",
   "execution_count": null,
   "id": "7cc9d9b3",
   "metadata": {},
   "outputs": [],
   "source": [
    "Param_var = {'a' : 5 , 'b' : 4 , 'c' : 3} -----------> This change with every iteration \n",
    "param_fix = {'d': 2 , 'e' : 1 , 'f' : 0}  -----------> This remain same throughtout the iteration process "
   ]
  },
  {
   "cell_type": "code",
   "execution_count": null,
   "id": "51490fff",
   "metadata": {},
   "outputs": [],
   "source": [
    "data has columns name ['a' , 'b' , 'c' , 'd' , 'e' , 'f' , 'g' , 'h']"
   ]
  },
  {
   "cell_type": "code",
   "execution_count": null,
   "id": "f7670fbd",
   "metadata": {},
   "outputs": [],
   "source": [
    "def Pred_func(data, param_all):\n",
    "    y = 0\n",
    "    for v in param_all.keys():          ----\n",
    "        y += data[v] * param_all[v].value  |\n",
    "                                           |----> This take 28 sec to compute per iteration\n",
    "    return y                            ----\n",
    "\n",
    "        "
   ]
  },
  {
   "cell_type": "code",
   "execution_count": null,
   "id": "2c26361d",
   "metadata": {},
   "outputs": [],
   "source": [
    "submod = 'L2'\n",
    "def model_func_fit(data , Param_var , param_fix , submod):\n",
    "    param_all = Param_var + param_fix -------------> combining both iteration\n",
    "    y_pred = Pred_func(data, param_all)\n",
    "    error = data['y_actual']- y_pred\n",
    "    \n",
    "    return error\n",
    " \n",
    " So total time to complete LMfit model take about 8 hours. "
   ]
  },
  {
   "cell_type": "code",
   "execution_count": null,
   "id": "b5f72bc2",
   "metadata": {},
   "outputs": [],
   "source": []
  },
  {
   "cell_type": "code",
   "execution_count": 6,
   "id": "654977dd",
   "metadata": {},
   "outputs": [],
   "source": [
    "global model_dict , dict_param\n",
    "model_dict = {}\n",
    "dict_param = {}"
   ]
  },
  {
   "cell_type": "code",
   "execution_count": null,
   "id": "153b3060",
   "metadata": {},
   "outputs": [],
   "source": [
    "submod = 'L2'\n",
    "def model_func_fit(data , Param_var , param_fix , submod):\n",
    "    param_all = Param_var + param_fix -------------> combining both iteration\n",
    "     \n",
    "    model_dict[submod] = [v for v in param_all.keys()] ----------> Added code \n",
    "    \n",
    "    y_pred = Pred_func(data, param_all)\n",
    "    error = data['y_actual']- y_pred\n",
    "    \n",
    "    return error"
   ]
  },
  {
   "cell_type": "code",
   "execution_count": 13,
   "id": "d8e3c836",
   "metadata": {},
   "outputs": [
    {
     "data": {
      "text/plain": [
       "{'L2': ['a', 'b', 'c', 'd', 'e', 'f']}"
      ]
     },
     "execution_count": 13,
     "metadata": {},
     "output_type": "execute_result"
    }
   ],
   "source": [
    "model_dict"
   ]
  },
  {
   "cell_type": "code",
   "execution_count": 18,
   "id": "c8003fb8",
   "metadata": {},
   "outputs": [
    {
     "data": {
      "text/plain": [
       "{'L2': ['a', 'b', 'c']}"
      ]
     },
     "execution_count": 18,
     "metadata": {},
     "output_type": "execute_result"
    }
   ],
   "source": [
    "model_dict['L2'] = model_dict['L2'].difference(list(i for i in param_fix.keys()))"
   ]
  },
  {
   "cell_type": "code",
   "execution_count": null,
   "id": "2e274916",
   "metadata": {},
   "outputs": [],
   "source": [
    "for v in model_dict:\n",
    "    y = 0\n",
    "    for i in model_dict[v]:\n",
    "        y += data[v] * Param_var[i].value\n",
    "        \n",
    "    dict_param[v] = y"
   ]
  },
  {
   "cell_type": "code",
   "execution_count": 22,
   "id": "f4381431",
   "metadata": {},
   "outputs": [],
   "source": [
    "def dict_create(submod):\n",
    "    model_dict[submod] = model_dict['L2'].difference(list(i for i in param_fix.keys()))\n",
    "    \n",
    "    for v in model_dict:\n",
    "        y = 0\n",
    "        for i in model_dict[v]:\n",
    "            y += data[v] * Param_var[i].value\n",
    "        \n",
    "        dict_param[v] = y\n",
    "        \n",
    "    return None"
   ]
  },
  {
   "cell_type": "code",
   "execution_count": null,
   "id": "7e122953",
   "metadata": {},
   "outputs": [],
   "source": [
    "k = dict_create(submod)"
   ]
  },
  {
   "cell_type": "code",
   "execution_count": 21,
   "id": "c51f0b2b",
   "metadata": {},
   "outputs": [
    {
     "data": {
      "text/plain": [
       "{'L2': [1, 2, 3, 1, 3, 63, 2, 2, 4, 2, 6, 32, 2]}"
      ]
     },
     "execution_count": 21,
     "metadata": {},
     "output_type": "execute_result"
    }
   ],
   "source": [
    "dict_param"
   ]
  },
  {
   "cell_type": "code",
   "execution_count": null,
   "id": "8a0b5cfe",
   "metadata": {},
   "outputs": [],
   "source": [
    "Param_var = {} ---> Making this parameter empty "
   ]
  },
  {
   "cell_type": "code",
   "execution_count": null,
   "id": "d4807d96",
   "metadata": {},
   "outputs": [],
   "source": [
    "def Pred_func(data, param_all , submod):\n",
    "            \n",
    "    y = 0\n",
    "    for v in param_all.keys():          ----\n",
    "        y += data[v] * param_all[v].value  |\n",
    "                                           |\n",
    "                                           |----> This take 2 sec to compute per iteration\n",
    "    if submod in dict_param:               |\n",
    "        y += dict_param[submod]      ------|\n",
    "            \n",
    "            \n",
    "    return y   "
   ]
  },
  {
   "cell_type": "code",
   "execution_count": null,
   "id": "1a2c8701",
   "metadata": {},
   "outputs": [],
   "source": []
  }
 ],
 "metadata": {
  "kernelspec": {
   "display_name": "Python 3",
   "language": "python",
   "name": "python3"
  },
  "language_info": {
   "codemirror_mode": {
    "name": "ipython",
    "version": 3
   },
   "file_extension": ".py",
   "mimetype": "text/x-python",
   "name": "python",
   "nbconvert_exporter": "python",
   "pygments_lexer": "ipython3",
   "version": "3.8.8"
  }
 },
 "nbformat": 4,
 "nbformat_minor": 5
}
